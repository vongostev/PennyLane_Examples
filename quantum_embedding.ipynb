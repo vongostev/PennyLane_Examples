{
 "cells": [
  {
   "cell_type": "code",
   "execution_count": 1,
   "id": "intensive-ukraine",
   "metadata": {},
   "outputs": [],
   "source": [
    "%matplotlib inline\n",
    "import itertools\n",
    "\n",
    "import matplotlib as mpl\n",
    "import matplotlib.pyplot as plt\n",
    "import pennylane as qml\n",
    "from pennylane import numpy as np\n",
    "from pennylane.templates import BasisEmbedding, AmplitudeEmbedding, AngleEmbedding\n",
    "from pennylane import QubitStateVector\n",
    "\n",
    "n_qubits = 5\n",
    "dev = qml.device('default.qubit', wires=n_qubits)\n",
    "\n",
    "qml.enable_tape()\n",
    "mpl.rcParams['figure.dpi'] = 100"
   ]
  },
  {
   "cell_type": "markdown",
   "id": "intelligent-coordination",
   "metadata": {},
   "source": [
    "# Quantum embedding (Квантовое представление)\n",
    "- Что такое признаки (features)?\n",
    "- Quantum feature map\n",
    "- Основные типы представления\n",
    "\n",
    "Quantum embedding -- это представление классических данных в виде параметров квантовой схемы-генератора. Состояние на выходе генератора зависит от заданных классических данных.\n",
    "\n",
    "См. https://arxiv.org/pdf/2001.03622.pdf\n",
    "\n",
    "Если рассматривать процесс гибридных вычислений в общем, то его можно описать такой схемой:\n",
    "\n",
    "<img src=\"https://quantum-science.systems/wp-content/uploads/2019/12/Hybrid-Algorithm.jpg\">"
   ]
  },
  {
   "cell_type": "markdown",
   "id": "narrative-lesbian",
   "metadata": {},
   "source": [
    "## Что такое признаки?\n",
    "Признаки (features) -- это числовое представление особенностей объекта. То есть объекту сопоставляется некоторый числовой вектор, который отражает его уникальность. Например, если у нас есть кубы и шары двух разных цветов (синего и красного), то мы можем описать их с помощью двухмерного вектора признаков, если проведем сопоставление $\\{0: \"шар\", 1: \"куб\"\\}$, $\\{0: \"синий\", 1: \"красный\"\\}$. Красный шар будет иметь вектор признаков $\\{0, 1\\}$.\n",
    "\n",
    "Помимо дискретных, могут быть непрерывные признаки, например угол поворота или координаты.\n",
    "\n",
    "Раньше признаки разрабатывали вручную, сейчас зачастую они генерируются с помощью глубоких нейронных сетей."
   ]
  },
  {
   "cell_type": "markdown",
   "id": "ordinary-briefing",
   "metadata": {},
   "source": [
    "## Quantum feature map\n",
    "Quantum feature map -- это преобразование, действующее из пространства классических в пространство квантовых признаков."
   ]
  },
  {
   "cell_type": "markdown",
   "id": "pleasant-characteristic",
   "metadata": {},
   "source": [
    "## Основные типы представления\n",
    "### Basis embedding\n",
    "Классические данные -- битовые строки. Идет сопоставление между битовой строкой и базисным квантовым состоянием вида $\"01010\"\\to |01010\\rangle$. Для этого строится кодирующая квантовая схема, переводящая исходное состояние $|0\\rangle$ в состояние, соответствующее битовой строке, которая, если $i$-й бит равен 1, действует на $i$-й кубит с помощью операторов $X_i$, переводя его в состояние $|1\\rangle$. Если на вход подается набор битовых строк $\\{x_1,\\dots,x_M\\}$, то создается суперпозиционное состояние вида\n",
    "\n",
    "$$ |X\\rangle = \\frac{1}{\\sqrt{M}}\\sum_{m=1}^{M} |x_m\\rangle. $$\n",
    "\n",
    "Таким образом, все дальнейшие квантовые операции проводятся над набором данных параллельно. Для представления $M$ битовых строк размерности $N$ необходимо как минимум $n=N$ кубитов."
   ]
  },
  {
   "cell_type": "markdown",
   "id": "narrow-manitoba",
   "metadata": {},
   "source": [
    "Представление отдельной битовой строки"
   ]
  },
  {
   "cell_type": "code",
   "execution_count": 2,
   "id": "continuing-master",
   "metadata": {},
   "outputs": [
    {
     "name": "stdout",
     "output_type": "stream",
     "text": [
      " 0: ─────╭┤ Probs \n",
      " 1: ──X──├┤ Probs \n",
      " 2: ──X──├┤ Probs \n",
      " 3: ─────├┤ Probs \n",
      " 4: ─────╰┤ Probs \n",
      "\n"
     ]
    }
   ],
   "source": [
    "@qml.qnode(dev)\n",
    "def coding_node(bits, n_qubits=5):\n",
    "    BasisEmbedding(bits, wires=range(n_qubits))\n",
    "    return qml.probs(wires=range(n_qubits))\n",
    "\n",
    "coding_node([0, 1, 1, 0, 0])\n",
    "print(coding_node.draw())"
   ]
  },
  {
   "cell_type": "markdown",
   "id": "fallen-cycle",
   "metadata": {},
   "source": [
    "Представление массива битовых строк. Для их представления необходим препроцессинг -- преобразование битовых строк в коэффициенты при базисных состояниях. Если базисное состояние соответствует строке, то она включается в состояние с амплитудой $1/\\sqrt{M}$, иначе не включается.\n",
    "\n",
    "При таком способе представления удобно использовать класс **QubitStateVector**, который принимает на вход амплитуды базисных состояний и генерирует на выходе состояние с заданными амплитудами."
   ]
  },
  {
   "cell_type": "code",
   "execution_count": 3,
   "id": "close-taxation",
   "metadata": {},
   "outputs": [],
   "source": [
    "@qml.qnode(dev)\n",
    "def coding_node(bits_data, n_qubits=5):\n",
    "    QubitStateVector(bits_data, wires=range(n_qubits))\n",
    "    return qml.probs(wires=range(n_qubits))\n",
    "\n",
    "\n",
    "def preprocess_data(bits_data):\n",
    "    str_data = [str(b) for b in bits_data]\n",
    "    basis = [str(np.tensor(i)) for i in itertools.product([0, 1], repeat=len(bits_data[0]))]\n",
    "    weights = []\n",
    "    for b in basis:\n",
    "        weights.append(int(b in str_data) / np.sqrt(len(bits_data) - 1))\n",
    "    return np.array(weights)"
   ]
  },
  {
   "cell_type": "markdown",
   "id": "periodic-motion",
   "metadata": {},
   "source": [
    "Создадим набор случайных битовых строк и преобразуем его в амплитуды"
   ]
  },
  {
   "cell_type": "code",
   "execution_count": 4,
   "id": "moral-africa",
   "metadata": {},
   "outputs": [
    {
     "data": {
      "text/plain": [
       "['[1 1 0 1 1]',\n",
       " '[0 1 1 1 0]',\n",
       " '[0 0 0 0 1]',\n",
       " '[0 1 1 1 1]',\n",
       " '[0 1 1 0 1]',\n",
       " '[1 0 0 0 1]',\n",
       " '[1 1 0 0 0]',\n",
       " '[0 1 1 0 1]',\n",
       " '[1 1 0 1 1]']"
      ]
     },
     "execution_count": 4,
     "metadata": {},
     "output_type": "execute_result"
    }
   ],
   "source": [
    "N = n_qubits\n",
    "M = 10\n",
    "initial_data = [np.random.randint(2, size=5) for i in range(M)]\n",
    "initial_data = list(filter(lambda b: (int(sum(b)) < N) & (int(sum(b)) > 0), initial_data))\n",
    "basis_data = preprocess_data(initial_data)\n",
    "[str(b) for b in initial_data]"
   ]
  },
  {
   "cell_type": "code",
   "execution_count": 5,
   "id": "checked-bacteria",
   "metadata": {},
   "outputs": [
    {
     "name": "stdout",
     "output_type": "stream",
     "text": [
      "[0.         0.35355339 0.         0.         0.         0.\n",
      " 0.         0.         0.         0.         0.         0.\n",
      " 0.         0.35355339 0.35355339 0.35355339 0.         0.35355339\n",
      " 0.         0.         0.         0.         0.         0.\n",
      " 0.35355339 0.         0.         0.35355339 0.         0.\n",
      " 0.         0.        ]\n"
     ]
    }
   ],
   "source": [
    "print(basis_data)"
   ]
  },
  {
   "cell_type": "markdown",
   "id": "union-restriction",
   "metadata": {},
   "source": [
    "Посмотрим на сгенерированную схему"
   ]
  },
  {
   "cell_type": "code",
   "execution_count": 6,
   "id": "distinguished-portland",
   "metadata": {},
   "outputs": [
    {
     "name": "stdout",
     "output_type": "stream",
     "text": [
      " 0: ──╭QubitStateVector(M0)──╭┤ Probs \n",
      " 1: ──├QubitStateVector(M0)──├┤ Probs \n",
      " 2: ──├QubitStateVector(M0)──├┤ Probs \n",
      " 3: ──├QubitStateVector(M0)──├┤ Probs \n",
      " 4: ──╰QubitStateVector(M0)──╰┤ Probs \n",
      "M0 =\n",
      "[0.         0.37796447 0.         0.         0.         0.\n",
      " 0.         0.         0.         0.         0.         0.\n",
      " 0.         0.37796447 0.37796447 0.37796447 0.         0.37796447\n",
      " 0.         0.         0.         0.         0.         0.\n",
      " 0.37796447 0.         0.         0.37796447 0.         0.\n",
      " 0.         0.        ]\n",
      "\n"
     ]
    }
   ],
   "source": [
    "coding_node(basis_data / np.sqrt(np.sum(basis_data ** 2)))\n",
    "print(coding_node.draw())"
   ]
  },
  {
   "cell_type": "markdown",
   "id": "super-dinner",
   "metadata": {},
   "source": [
    "### Amplitude embedding\n",
    "Классические данные -- набор векторов ($x_m\\in\\mathbb{R}^N$) с целыми или действительными числами. Для представления данных в квантовом виде их выстраивают в одномерный массив $\\{x_{m,n}:m=1,\\dots,M,n=1,\\dots,N\\}\\to\\{x_k:k=m + n=1,\\dots,M\\cdot N\\}$. Массив нормируют на единицу и передают в качестве параметров в квантовую схему, состояние на выходе которой имеет вид:\n",
    "\n",
    "$$ |X\\rangle = \\sum_{k=1}^{M\\cdot N} x_k|k\\rangle $$\n",
    "\n",
    "Здесь $|k\\rangle$ -- базисное состояние в вычислительном базисе. Для представления $M$ векторов размерности $N$ необходимо как минимум $n=\\log_2{(MN)}$ кубитов. Если $MN\\neq 2^n,n\\in\\mathbb{N}$, то исходные данные дополняются \"неинформативными\" константами, например нулями."
   ]
  },
  {
   "cell_type": "markdown",
   "id": "coordinated-receptor",
   "metadata": {},
   "source": [
    "В **pennylane** для представления данных в амплитуды есть класс **AmplitudeEmbedding**. Сгенерируем случайные векторные данные. У нас есть 5 кубитов, поэтому $NM\\leq 32$."
   ]
  },
  {
   "cell_type": "code",
   "execution_count": 7,
   "id": "textile-tender",
   "metadata": {},
   "outputs": [
    {
     "data": {
      "text/plain": [
       "[tensor([0.34923379, 0.10502114, 0.81841924, 0.88882221], requires_grad=True),\n",
       " tensor([0.15134612, 0.60742549, 0.15589015, 0.14904247], requires_grad=True),\n",
       " tensor([0.88675773, 0.33966529, 0.96404674, 0.20785152], requires_grad=True),\n",
       " tensor([0.69349711, 0.17870541, 0.47984352, 0.19774387], requires_grad=True),\n",
       " tensor([0.01409409, 0.17059605, 0.6874051 , 0.72108027], requires_grad=True),\n",
       " tensor([0.9484897 , 0.16578856, 0.2167648 , 0.83723223], requires_grad=True),\n",
       " tensor([0.85714106, 0.08962102, 0.36625976, 0.77715817], requires_grad=True),\n",
       " tensor([0.25587442, 0.35639624, 0.43142301, 0.87257302], requires_grad=True)]"
      ]
     },
     "execution_count": 7,
     "metadata": {},
     "output_type": "execute_result"
    }
   ],
   "source": [
    "N = 4\n",
    "M = 2 ** n_qubits // N\n",
    "initial_data = [np.random.random_sample((N,)) for i in range(M)]\n",
    "initial_data"
   ]
  },
  {
   "cell_type": "code",
   "execution_count": 8,
   "id": "social-anthony",
   "metadata": {},
   "outputs": [],
   "source": [
    "@qml.qnode(dev)\n",
    "def coding_node(data, n_qubits=5):\n",
    "    AmplitudeEmbedding(features=data, wires=range(n_qubits), normalize=True)\n",
    "    return qml.probs(wires=range(n_qubits))"
   ]
  },
  {
   "cell_type": "code",
   "execution_count": 9,
   "id": "foster-annex",
   "metadata": {},
   "outputs": [
    {
     "name": "stdout",
     "output_type": "stream",
     "text": [
      " 0: ──╭QubitStateVector(M0)──╭┤ Probs \n",
      " 1: ──├QubitStateVector(M0)──├┤ Probs \n",
      " 2: ──├QubitStateVector(M0)──├┤ Probs \n",
      " 3: ──├QubitStateVector(M0)──├┤ Probs \n",
      " 4: ──╰QubitStateVector(M0)──╰┤ Probs \n",
      "M0 =\n",
      "[0.11040755 0.03320162 0.25873687 0.28099423 0.0478469  0.19203284\n",
      " 0.04928346 0.04711862 0.28034156 0.10738254 0.30477588 0.06571064\n",
      " 0.21924372 0.05649633 0.1516988  0.06251519 0.00445574 0.05393261\n",
      " 0.21731777 0.22796392 0.29985764 0.05241276 0.06852851 0.26468446\n",
      " 0.27097848 0.02833299 0.11579017 0.24569251 0.08089271 0.1126719\n",
      " 0.13639103 0.27585717]\n",
      "\n"
     ]
    }
   ],
   "source": [
    "amplitude_data = np.concatenate(initial_data)\n",
    "coding_node(amplitude_data)\n",
    "print(coding_node.draw())"
   ]
  },
  {
   "cell_type": "markdown",
   "id": "satisfied-butterfly",
   "metadata": {},
   "source": [
    "### Angle embedding\n",
    "Еще один \"простой\" тип представления. Классические данные -- набор чисел $X=\\{x_1,\\dots,x_M\\}\\in\\mathbb{R}^M$, и каждое число сопоставляется повороту кубита вокруг одной из трех осей. Например, при повороте вокруг оси $x$, состояние на выходе кодирующей схемы имеет вид:\n",
    "\n",
    "$$ |X\\rangle = \\prod_{k=1}^M r_x(x_k)|0_k\\rangle$$\n",
    "Где $|0_k\\rangle$ -- основное состояние $k$-го кубита. Для внедрения $M$ числе необходимо как минимум $n=M$ кубитов."
   ]
  },
  {
   "cell_type": "markdown",
   "id": "about-compensation",
   "metadata": {},
   "source": [
    "Для этого представления в **pennylane** есть класс **AngleEmbedding**. Создадим набор случайных чисел размерности $M=5$"
   ]
  },
  {
   "cell_type": "code",
   "execution_count": 10,
   "id": "bigger-giving",
   "metadata": {},
   "outputs": [
    {
     "data": {
      "text/plain": [
       "tensor([0.23251476, 0.5941253 , 0.31757757, 0.21611173, 0.2598239 ], requires_grad=True)"
      ]
     },
     "execution_count": 10,
     "metadata": {},
     "output_type": "execute_result"
    }
   ],
   "source": [
    "M = n_qubits\n",
    "initial_data = np.random.random_sample((M,))\n",
    "initial_data"
   ]
  },
  {
   "cell_type": "code",
   "execution_count": 11,
   "id": "moral-quilt",
   "metadata": {},
   "outputs": [],
   "source": [
    "@qml.qnode(dev)\n",
    "def coding_node(data, n_qubits=5):\n",
    "    AngleEmbedding(features=data, wires=range(n_qubits))\n",
    "    return qml.probs(wires=range(n_qubits))"
   ]
  },
  {
   "cell_type": "code",
   "execution_count": 12,
   "id": "communist-market",
   "metadata": {},
   "outputs": [
    {
     "name": "stdout",
     "output_type": "stream",
     "text": [
      " 0: ──RX(0.233)──╭┤ Probs \n",
      " 1: ──RX(0.594)──├┤ Probs \n",
      " 2: ──RX(0.318)──├┤ Probs \n",
      " 3: ──RX(0.216)──├┤ Probs \n",
      " 4: ──RX(0.26)───╰┤ Probs \n",
      "\n"
     ]
    }
   ],
   "source": [
    "coding_node(initial_data)\n",
    "print(coding_node.draw())"
   ]
  }
 ],
 "metadata": {
  "kernelspec": {
   "display_name": "Quantum-Lab",
   "language": "python",
   "name": "quantum-lab"
  },
  "language_info": {
   "codemirror_mode": {
    "name": "ipython",
    "version": 3
   },
   "file_extension": ".py",
   "mimetype": "text/x-python",
   "name": "python",
   "nbconvert_exporter": "python",
   "pygments_lexer": "ipython3",
   "version": "3.8.13"
  }
 },
 "nbformat": 4,
 "nbformat_minor": 5
}
