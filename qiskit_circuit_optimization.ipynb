{
 "cells": [
  {
   "cell_type": "markdown",
   "id": "interested-proof",
   "metadata": {},
   "source": [
    "# Оптимизация параметров квантовых схем с помощью метода градиентного спуска\n",
    "Мы рассмотрим, как использовать метод градиентного спуска для вычисления оптимальных параметров квантовых схем. В программе:\n",
    "- Трансляция квантовых схем qiskit в pennylane\n",
    "- Градиентный спуск. Как работает и почему\n",
    "- Квантовые градиенты\n",
    "- Градиентный спуск и метод Нестерова. Сравнение для квантовых схем"
   ]
  },
  {
   "cell_type": "code",
   "execution_count": 2,
   "id": "israeli-queensland",
   "metadata": {},
   "outputs": [
    {
     "ename": "ModuleNotFoundError",
     "evalue": "No module named 'retworkx.retworkx'",
     "output_type": "error",
     "traceback": [
      "\u001b[1;31m---------------------------------------------------------------------------\u001b[0m",
      "\u001b[1;31mModuleNotFoundError\u001b[0m                       Traceback (most recent call last)",
      "\u001b[1;32m<ipython-input-2-c24501a8b37c>\u001b[0m in \u001b[0;36m<module>\u001b[1;34m\u001b[0m\n\u001b[0;32m      6\u001b[0m \u001b[1;33m\u001b[0m\u001b[0m\n\u001b[0;32m      7\u001b[0m \u001b[1;31m# Importing standard Qiskit libraries\u001b[0m\u001b[1;33m\u001b[0m\u001b[1;33m\u001b[0m\u001b[1;33m\u001b[0m\u001b[0m\n\u001b[1;32m----> 8\u001b[1;33m \u001b[1;32mfrom\u001b[0m \u001b[0mqiskit\u001b[0m \u001b[1;32mimport\u001b[0m \u001b[0mQuantumCircuit\u001b[0m\u001b[1;33m,\u001b[0m \u001b[0mIBMQ\u001b[0m\u001b[1;33m\u001b[0m\u001b[1;33m\u001b[0m\u001b[0m\n\u001b[0m\u001b[0;32m      9\u001b[0m \u001b[1;32mfrom\u001b[0m \u001b[0mqiskit\u001b[0m\u001b[1;33m.\u001b[0m\u001b[0mcircuit\u001b[0m \u001b[1;32mimport\u001b[0m \u001b[0mParameter\u001b[0m\u001b[1;33m\u001b[0m\u001b[1;33m\u001b[0m\u001b[0m\n\u001b[0;32m     10\u001b[0m \u001b[1;33m\u001b[0m\u001b[0m\n",
      "\u001b[1;32m~\\miniconda3\\envs\\quantum-lab\\lib\\site-packages\\qiskit\\__init__.py\u001b[0m in \u001b[0;36m<module>\u001b[1;34m\u001b[0m\n\u001b[0;32m     29\u001b[0m \u001b[1;33m\u001b[0m\u001b[0m\n\u001b[0;32m     30\u001b[0m \u001b[1;31m# The main qiskit operators\u001b[0m\u001b[1;33m\u001b[0m\u001b[1;33m\u001b[0m\u001b[1;33m\u001b[0m\u001b[0m\n\u001b[1;32m---> 31\u001b[1;33m \u001b[1;32mfrom\u001b[0m \u001b[0mqiskit\u001b[0m\u001b[1;33m.\u001b[0m\u001b[0mcircuit\u001b[0m \u001b[1;32mimport\u001b[0m \u001b[0mClassicalRegister\u001b[0m\u001b[1;33m\u001b[0m\u001b[1;33m\u001b[0m\u001b[0m\n\u001b[0m\u001b[0;32m     32\u001b[0m \u001b[1;32mfrom\u001b[0m \u001b[0mqiskit\u001b[0m\u001b[1;33m.\u001b[0m\u001b[0mcircuit\u001b[0m \u001b[1;32mimport\u001b[0m \u001b[0mQuantumRegister\u001b[0m\u001b[1;33m\u001b[0m\u001b[1;33m\u001b[0m\u001b[0m\n\u001b[0;32m     33\u001b[0m \u001b[1;32mfrom\u001b[0m \u001b[0mqiskit\u001b[0m\u001b[1;33m.\u001b[0m\u001b[0mcircuit\u001b[0m \u001b[1;32mimport\u001b[0m \u001b[0mAncillaRegister\u001b[0m\u001b[1;33m\u001b[0m\u001b[1;33m\u001b[0m\u001b[0m\n",
      "\u001b[1;32m~\\miniconda3\\envs\\quantum-lab\\lib\\site-packages\\qiskit\\circuit\\__init__.py\u001b[0m in \u001b[0;36m<module>\u001b[1;34m\u001b[0m\n\u001b[0;32m    227\u001b[0m \u001b[1;32mfrom\u001b[0m \u001b[1;33m.\u001b[0m\u001b[0mparametervector\u001b[0m \u001b[1;32mimport\u001b[0m \u001b[0mParameterVector\u001b[0m\u001b[1;33m\u001b[0m\u001b[1;33m\u001b[0m\u001b[0m\n\u001b[0;32m    228\u001b[0m \u001b[1;32mfrom\u001b[0m \u001b[1;33m.\u001b[0m\u001b[0mparameterexpression\u001b[0m \u001b[1;32mimport\u001b[0m \u001b[0mParameterExpression\u001b[0m\u001b[1;33m\u001b[0m\u001b[1;33m\u001b[0m\u001b[0m\n\u001b[1;32m--> 229\u001b[1;33m \u001b[1;32mfrom\u001b[0m \u001b[1;33m.\u001b[0m\u001b[0mequivalence\u001b[0m \u001b[1;32mimport\u001b[0m \u001b[0mEquivalenceLibrary\u001b[0m\u001b[1;33m\u001b[0m\u001b[1;33m\u001b[0m\u001b[0m\n\u001b[0m\u001b[0;32m    230\u001b[0m \u001b[1;32mfrom\u001b[0m \u001b[1;33m.\u001b[0m\u001b[0mclassicalfunction\u001b[0m\u001b[1;33m.\u001b[0m\u001b[0mtypes\u001b[0m \u001b[1;32mimport\u001b[0m \u001b[0mInt1\u001b[0m\u001b[1;33m,\u001b[0m \u001b[0mInt2\u001b[0m\u001b[1;33m\u001b[0m\u001b[1;33m\u001b[0m\u001b[0m\n\u001b[0;32m    231\u001b[0m \u001b[1;32mfrom\u001b[0m \u001b[1;33m.\u001b[0m\u001b[0mclassicalfunction\u001b[0m \u001b[1;32mimport\u001b[0m \u001b[0mclassical_function\u001b[0m\u001b[1;33m\u001b[0m\u001b[1;33m\u001b[0m\u001b[0m\n",
      "\u001b[1;32m~\\miniconda3\\envs\\quantum-lab\\lib\\site-packages\\qiskit\\circuit\\equivalence.py\u001b[0m in \u001b[0;36m<module>\u001b[1;34m\u001b[0m\n\u001b[0;32m     16\u001b[0m \u001b[1;32mfrom\u001b[0m \u001b[0mcollections\u001b[0m \u001b[1;32mimport\u001b[0m \u001b[0mnamedtuple\u001b[0m\u001b[1;33m\u001b[0m\u001b[1;33m\u001b[0m\u001b[0m\n\u001b[0;32m     17\u001b[0m \u001b[1;33m\u001b[0m\u001b[0m\n\u001b[1;32m---> 18\u001b[1;33m \u001b[1;32mimport\u001b[0m \u001b[0mretworkx\u001b[0m \u001b[1;32mas\u001b[0m \u001b[0mrx\u001b[0m\u001b[1;33m\u001b[0m\u001b[1;33m\u001b[0m\u001b[0m\n\u001b[0m\u001b[0;32m     19\u001b[0m \u001b[1;33m\u001b[0m\u001b[0m\n\u001b[0;32m     20\u001b[0m \u001b[1;32mfrom\u001b[0m \u001b[1;33m.\u001b[0m\u001b[0mexceptions\u001b[0m \u001b[1;32mimport\u001b[0m \u001b[0mCircuitError\u001b[0m\u001b[1;33m\u001b[0m\u001b[1;33m\u001b[0m\u001b[0m\n",
      "\u001b[1;32m~\\miniconda3\\envs\\quantum-lab\\lib\\site-packages\\retworkx\\__init__.py\u001b[0m in \u001b[0;36m<module>\u001b[1;34m\u001b[0m\n\u001b[0;32m     10\u001b[0m \u001b[1;32mimport\u001b[0m \u001b[0mfunctools\u001b[0m\u001b[1;33m\u001b[0m\u001b[1;33m\u001b[0m\u001b[0m\n\u001b[0;32m     11\u001b[0m \u001b[1;33m\u001b[0m\u001b[0m\n\u001b[1;32m---> 12\u001b[1;33m \u001b[1;32mfrom\u001b[0m \u001b[1;33m.\u001b[0m\u001b[0mretworkx\u001b[0m \u001b[1;32mimport\u001b[0m \u001b[1;33m*\u001b[0m\u001b[1;33m\u001b[0m\u001b[1;33m\u001b[0m\u001b[0m\n\u001b[0m\u001b[0;32m     13\u001b[0m \u001b[0msys\u001b[0m\u001b[1;33m.\u001b[0m\u001b[0mmodules\u001b[0m\u001b[1;33m[\u001b[0m\u001b[1;34m'retworkx.generators'\u001b[0m\u001b[1;33m]\u001b[0m \u001b[1;33m=\u001b[0m \u001b[0mgenerators\u001b[0m\u001b[1;33m\u001b[0m\u001b[1;33m\u001b[0m\u001b[0m\n\u001b[0;32m     14\u001b[0m \u001b[1;33m\u001b[0m\u001b[0m\n",
      "\u001b[1;31mModuleNotFoundError\u001b[0m: No module named 'retworkx.retworkx'"
     ]
    }
   ],
   "source": [
    "%matplotlib inline\n",
    "import matplotlib as mpl\n",
    "import matplotlib.pyplot as plt\n",
    "import pennylane as qml\n",
    "from pennylane import numpy as np\n",
    "\n",
    "# Importing standard Qiskit libraries\n",
    "from qiskit import QuantumCircuit, IBMQ\n",
    "from qiskit.circuit import Parameter\n",
    "\n",
    "# Loading your IBM Q account(s)\n",
    "provider = IBMQ.load_account()\n",
    "dev = qml.device('qiskit.aer', wires=2, backend='qasm_simulator', shots=2048)\n",
    "\n",
    "mpl.rcParams['figure.dpi'] = 150"
   ]
  },
  {
   "cell_type": "markdown",
   "id": "polyphonic-picking",
   "metadata": {},
   "source": [
    "# Что будем оптимизировать?"
   ]
  },
  {
   "cell_type": "markdown",
   "id": "israeli-distinction",
   "metadata": {},
   "source": [
    "Генерируем состояние Белла $|\\Phi+\\rangle$ и действуем на первый кубит оператором $R_y$ с заранее заданным углом поворота."
   ]
  },
  {
   "cell_type": "code",
   "execution_count": null,
   "id": "demanding-pilot",
   "metadata": {
    "scrolled": true
   },
   "outputs": [],
   "source": [
    "rotation_angle = - np.pi / 3\n",
    "circuit_prep_qsk = QuantumCircuit(2)\n",
    "circuit_prep_qsk.h(0)\n",
    "circuit_prep_qsk.cx(0, 1)\n",
    "circuit_prep_qsk.ry(rotation_angle, 0)\n",
    "#circuit_prep_qsk.barrier([0,1])\n",
    "\n",
    "circuit_prep = qml.from_qiskit(circuit_prep_qsk)\n",
    "circuit_prep_qsk.draw('mpl')"
   ]
  },
  {
   "cell_type": "markdown",
   "id": "israeli-chuck",
   "metadata": {},
   "source": [
    "Строим схему дизентанглера, чтобы подобрать угол поворота $R_y$. У схемы один параметр -- угол поворота **angle_a**.\n",
    "Измеряется ожидаемое значение матрицы Паули $\\langle\\sigma_z\\rangle$, которое равно 1 при совпадении исходного и подобранного углов.\n",
    "Строится минимизируемая функция **cost**, равная $-\\langle\\sigma_z\\rangle$. \n",
    "Её минимальное значение равно -1, что соответствует верно подобранному углу **angle_a**.\n",
    "В примере решается простая оптимизационная задача без ограничений:\n",
    "\n",
    "$$\\min\\:\\text{cost(angle_a)}$$"
   ]
  },
  {
   "cell_type": "code",
   "execution_count": null,
   "id": "mental-special",
   "metadata": {},
   "outputs": [],
   "source": [
    "angle_a = Parameter(\"angle_a\")\n",
    "circuit_meas_qsk = QuantumCircuit(2)\n",
    "circuit_meas_qsk.ry(angle_a, 0)\n",
    "circuit_meas_qsk.cnot(0, 1)\n",
    "circuit_meas_qsk.h(0)\n",
    "\n",
    "circuit_meas = qml.from_qiskit(circuit_meas_qsk)\n",
    "\n",
    "@qml.qnode(dev)\n",
    "def bell_state_meas(angles):\n",
    "    circuit_prep(wires=[0,1])\n",
    "    circuit_meas({angle_a: angles[0]})#, angle_b: angles[1]})\n",
    "    return qml.expval(qml.PauliZ(0))\n",
    "\n",
    "\n",
    "def cost(angles):\n",
    "    return -bell_state_meas(angles)\n",
    "\n",
    "(circuit_prep_qsk+circuit_meas_qsk).draw('mpl')"
   ]
  },
  {
   "cell_type": "markdown",
   "id": "duplicate-salem",
   "metadata": {},
   "source": [
    "# Градиентный спуск в квантовых вычислениях"
   ]
  },
  {
   "cell_type": "markdown",
   "id": "daily-subcommittee",
   "metadata": {},
   "source": [
    "### Базовый метод градиентного спуска\n",
    "Прежде чем формулировать квантовый метод, вспомним сначала, как вообще строится метод градиентного спуска.\n",
    "Следует сначала описать задачу, а именно: «Даны множество $\\mathcal{K}$ и функция $f:\\mathcal{K}\\rightarrow \\mathbb{R}$, требуется найти точку $x^*\\in \\mathcal{K}$, такую что $ f(x)\\geq f(x^*)$ для всех $x\\in \\mathcal{K}$», что обычно записывается например вот так:\n",
    "\n",
    "$$f(x)\\rightarrow \\min_{x\\in \\mathcal{K}}.$$\n",
    "\n",
    "В *теории* обычно предполагается, что $f$ — дифференцируемая и выпуклая функция, а $\\mathcal{K}$ — выпуклое множество (то есть все точки отрезка, проведенного между точками $x_1, x_2\\in \\mathcal{K}$ принадлежат $\\mathcal{K}$), а еще лучше, если вообще $\\mathcal{K}=\\mathbb{R}^n$, это позволяет дать какие-то гарантии успешности применения градиентного спуска. На *практике* градиентный спуск успешно применяется даже когда у задачи нет ни одного из вышеперечисленных свойств.\n",
    "\n",
    "Метод градиентного спуска построен на линейной аппроксимации целевой функции в каждой точке:\n",
    "\n",
    "$$f(x)\\approx f(x^*)+\\nabla f(x^*)^T(x-x^*)$$\n",
    "\n",
    "Чем ближе $x$ к $x^*$, чем точнее это приближение. В правой части — выражение, которое при $\\nabla f(x^*)\\neq 0$ может быть как больше $f(x^*)$ так и меньше. Величина $\\nabla f(x^*)$ — *градиент* функции $f$ в точке $x^*$. Равенство градиента нулю означает равенство всех частных производных нулю и достижение локального экстремума.\n",
    "А вот несет ли градиент какую-нибудь полезную информацию в случае, когда он отличен от нуля? \n",
    "\n",
    "Попробуем пока решить более простую задачу: <i>дана точка $x$, найти точку $\\bar{x}$ такую, что $f(\\bar{x})<f(x)$</i>. Давайте возьмем точку рядом с $x$, опять же используя линейное приближение \n",
    "\n",
    "$$f(\\bar{x})\\approx f(x)+\\nabla f(x)^T(\\bar{x}-x).$$\n",
    "\n",
    "Если взять $\\bar{x}=x-\\alpha\\nabla f(x)$, $ \\alpha>0$ то мы получим\n",
    "\n",
    "$$ f(\\bar{x})\\approx f(x)-\\alpha\\|\\nabla f(x)\\|^2<f(x). $$\n",
    "\n",
    "Аналогично, если $ \\alpha<0 $, то $f(\\bar{x})$ будет больше $f(x)$ (здесь и далее $||x||=\\sqrt{x_1^2+x_2^2+\\ldots+x_n^2}~$). Опять же, так как мы использовали приближение, то эти соображения будут верны только для малых $\\alpha$. Подытоживая вышесказанное, если $\\nabla f(x)\\neq 0$, то **градиент указывает направление наибольшего локального увеличения функции**, что хорошо видно на рисунке ниже\n",
    "<img src=\"https://avatars.mds.yandex.net/get-zen_doc/233051/pub_5c4ce6eafff27d00ae1a5b7c_5c52b6460f77fc00b05f3a08/scale_1200\" width=\"60%\" height=\"60%\">\n",
    "\n",
    "Итак, мы научились по точке $x$ получать точку $\\bar{x}$ с меньшим значением функции $ f$. Что мешает нам повторить это несколько раз? По сути, это и есть градиентный спуск: строим последовательность\n",
    "\n",
    "$$ x_{k+1}=x_k-\\alpha_k\\nabla f(x_k). $$\n",
    "\n",
    "Величина $\\alpha_k$ называется <i>размером шага</i> (в машинном обучении — <i>скорость обучения</i>). Если $\\alpha_k$ — очень маленькие, то последовательность медленно меняется, что делает алгоритм не очень эффективным; если же $\\alpha_k$ очень большие, то линейное приближение становится плохим, а может даже и неверным. На практике размер шага часта подбирают эмпирически, в теории обычно предполагается липшицевость градиента, а именно, если\n",
    "\n",
    "$$ \\|\\nabla f(x)-\\nabla f(y)\\|\\leq L\\|x-y\\| $$\n",
    "\n",
    "для всех $x,y$, то $\\alpha_k< \\frac{2}{L}$ гарантирует убывание $f(x_k)$.\n",
    "\n",
    "Критерии остановки итерационного процесса приближенного нахождения минимума могут быть основаны на различных соображениях. Обычно используются 2:\n",
    "1. $||x_{k+1}-x_{k}||\\leq\\epsilon$\n",
    "2. $||f(x_{k+1})-f(x_{k})||\\leq\\epsilon$\n",
    "\n",
    "Здеcь $x_{k}$ -- значение, полученное после k-го шага оптимизации. $\\epsilon$ -- наперед заданное малое положительное число."
   ]
  },
  {
   "cell_type": "markdown",
   "id": "outer-liechtenstein",
   "metadata": {},
   "source": [
    "### Квантовый градиент\n",
    "Градиент в математике определен только для классических функций. Как нам получить градиент квантовой функции? Для этого можно представить параметризованную квантовую схему как функцию $f(\\theta):\\mathbb{C}^n\\rightarrow \\mathbb{R}^m$. Для этого на выходе схемы проводятся измерения тех или иных ожидаемых значений (как в функции **bell_state_meas**, где измеряется ожидаемое значение оператора Паули $\\sigma_z$ в моде 0). При таком взгляде на задачу мы можем вычислять градиент $\\nabla_\\theta f(\\theta)$ как численно, так и, с некоторым трудом, аналитически. Эту ситуацию можно представить схематично:\n",
    "<img src=\"https://pennylane.ai/qml/_images/quantum_gradient.png\" width=\"40%\" height=\"40%\">\n",
    "Квантовый градиент, по аналогии с обычным, также представляет собой столбец из частных производных функции:\n",
    "$\\vec{f}(\\theta) = (f_1(\\theta), f_1(\\theta), ...)^T$.\n",
    "Квантовый градиент может быть рассчитан на квантовом компьютере с использованием правил параметрического сдвига (parameter-shift rules). При этом, в силу линейности схем, градиент может быть рассчитан с помощью той же квантовой схемы, что и сама функция.\n",
    "\n",
    "Подробнее см. https://pennylane.ai/qml/glossary/parameter_shift.html"
   ]
  },
  {
   "cell_type": "code",
   "execution_count": null,
   "id": "vietnamese-champagne",
   "metadata": {},
   "outputs": [],
   "source": [
    "angles = np.linspace(-np.pi, np.pi, 50)\n",
    "\n",
    "cost_value = lambda a: cost([a])\n",
    "cost_gradient = lambda a: qml.grad(cost)([a])[0][0] # Автоматическое дифференцирование функции\n",
    "\n",
    "cost_vals = np.vectorize(cost_value)(angles)\n",
    "grad_vals = np.vectorize(cost_gradient)(angles)\n",
    "\n",
    "lines = plt.plot(angles, cost_vals, angles, grad_vals)\n",
    "plt.axvline(angles[np.argmin(cost_vals)], linestyle='--', color='black')\n",
    "plt.axhline(0, linestyle='--', color='black')\n",
    "plt.xlabel('Угол вращения RY')\n",
    "plt.ylabel('Значение и градиент функции потерь')\n",
    "plt.legend(iter(lines), ('cost', 'grad'), frameon=False)\n",
    "plt.show()"
   ]
  },
  {
   "cell_type": "markdown",
   "id": "difficult-payday",
   "metadata": {},
   "source": [
    "### Метод Нестерова\n",
    "В 80х годах прошлого века Ю.Е. Нестеров придумал интересный вариант градиентного метода с накоплением импульса, который имеет вид\n",
    "\n",
    "$$ x_{k+1}=x_k+\\beta_k(x_k-x_{k-1})-\\alpha_k\\nabla f(x_k+\\beta_k(x_k-x_{k-1})), $$\n",
    "    \n",
    "при этом не предполагается какого-то сложного подсчета $\\alpha_k,\\beta_k$. Сама по себе идея методов с накоплением импульса до очевидности проста: «Если мы некоторое время движемся в определённом направлении, то, вероятно, нам следует туда двигаться некоторое время и в будущем». В методе Нестерова помимо накопления импульса превентивно вычисляется градиент функции в \"следующей\" точке. Такое изменение позволяет уменьшать значение функции быстрее, если по ходу движения производная увеличивается, и медленнее, если наоборот.\n",
    "\n",
    "Метод Нестерова является одним из наиболее популярных методов градиентного спуска для обучения нейронных сетей."
   ]
  },
  {
   "cell_type": "code",
   "execution_count": null,
   "id": "handmade-commons",
   "metadata": {},
   "outputs": [],
   "source": [
    "opt_nesterov = qml.NesterovMomentumOptimizer(stepsize=0.02, momentum=0.9)\n",
    "opt_grad = qml.GradientDescentOptimizer(stepsize=0.02)\n",
    "\n",
    "# set the number of steps\n",
    "steps = 100\n",
    "# set the initial parameter values\n",
    "gparams = [np.pi]\n",
    "nparams = [np.pi]\n",
    "\n",
    "nesterov_history = []\n",
    "grad_history = []\n",
    "nesterov_chistory = []\n",
    "grad_chistory = []\n",
    "\n",
    "print(\"\\t\\t   Cost value\\tGradientDescent\\t\\tNesterovMomentum\")\n",
    "for i in range(steps):\n",
    "    # update the circuit parameters\n",
    "    gparams, gcost = opt_grad.step_and_cost(cost, gparams)\n",
    "    nparams, ncost = opt_nesterov.step_and_cost(cost, nparams)\n",
    "    \n",
    "    grad_history.append(gparams[0])\n",
    "    nesterov_history.append(nparams[0])\n",
    "    grad_chistory.append(gcost)\n",
    "    nesterov_chistory.append(ncost)\n",
    "    \n",
    "    if (i + 1) % 5 == 0:\n",
    "        print(f\"Cost after step {i + 1:4d}: {gcost:.7f} {gparams[0]=:.7f}\\t{ncost:.7f} {nparams[0]=:.7f}\")\n",
    "        \n",
    "print(f\"\\nOptimized rotation angles: {gparams[0]=} {nparams[0]=}\")"
   ]
  },
  {
   "cell_type": "code",
   "execution_count": null,
   "id": "spatial-associate",
   "metadata": {},
   "outputs": [],
   "source": [
    "steps_list = np.arange(1, steps + 1)\n",
    "fig, ax = plt.subplots(1,2, figsize=(8,3))\n",
    "ax[0].plot(steps_list, grad_history, label='grad') \n",
    "ax[0].plot(steps_list, nesterov_history, label='nesterov')\n",
    "ax[0].set_xlabel('Номер шага')\n",
    "ax[0].set_title('Значение угла вращения')\n",
    "ax[0].legend(frameon=False)\n",
    "\n",
    "ax[1].plot(steps_list, grad_chistory, label='grad') \n",
    "ax[1].plot(steps_list, nesterov_chistory, label='nesterov')\n",
    "ax[1].set_xlabel('Номер шага')\n",
    "ax[1].set_title('Значение функции потерь')\n",
    "ax[1].legend(frameon=False)\n",
    "\n",
    "plt.show()"
   ]
  },
  {
   "cell_type": "code",
   "execution_count": null,
   "id": "sized-patrol",
   "metadata": {},
   "outputs": [],
   "source": [
    "(gparams[0] - np.pi / 3) / (np.pi / 3)"
   ]
  },
  {
   "cell_type": "code",
   "execution_count": null,
   "id": "extended-creation",
   "metadata": {},
   "outputs": [],
   "source": [
    "(nparams[0] - np.pi / 3) / (np.pi / 3)"
   ]
  }
 ],
 "metadata": {
  "kernelspec": {
   "display_name": "Quantum-Lab",
   "language": "python",
   "name": "quantum-lab"
  }
 },
 "nbformat": 4,
 "nbformat_minor": 5
}
