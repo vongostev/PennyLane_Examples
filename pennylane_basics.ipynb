{
 "cells": [
  {
   "cell_type": "markdown",
   "id": "indirect-medicaid",
   "metadata": {},
   "source": [
    "# PennyLane. Оптимизация параметров квантовых схем. Квантовое ускорение комбинаторной оптимизации\n",
    "## План занятия\n",
    "- Основные понятия PennyLane\n",
    "- Градиентный спуск\n",
    "- Оптимизация параметров квантовых схем с помощью градиентного спуска\n",
    "- Комбинаторная оптимизация\n",
    "- Квантовая приблизительная оптимизация\n",
    "- Решение задачи максимальной клики\n",
    "\n",
    "## Особенности PennyLane\n",
    "- Работа с разными квантовыми компьютерами, в том числе одновременно.\n",
    "- Оптимизация структуры для создания квантовых многослойных параметризованных схем.\n",
    "- Набор функций высокого уровня абстракции для оптимизации и машинного обучения.\n",
    "\n",
    "Установка через pip. Инструкции приведены по ссылке:\n",
    "https://pennylane.ai/install.html?version=stable\n",
    "\n",
    "Основные понятия:\n",
    "- quantum functions\n",
    "- quantum nodes\n",
    "- templates\n",
    "- измерения\n",
    "- devices\n",
    "- плагины"
   ]
  },
  {
   "cell_type": "code",
   "execution_count": 1,
   "id": "prompt-crack",
   "metadata": {},
   "outputs": [],
   "source": [
    "%matplotlib inline\n",
    "import matplotlib as mpl\n",
    "import matplotlib.pyplot as plt\n",
    "import pennylane as qml\n",
    "from pennylane import numpy as np\n",
    "\n",
    "mpl.rcParams['figure.dpi'] = 150"
   ]
  },
  {
   "cell_type": "markdown",
   "id": "extra-contributor",
   "metadata": {},
   "source": [
    "### Quantum functions\n",
    "Квантовые функции -- подмножество функций python. Они могут состоять только из последовательных квантовых команд и возвращать либо None, либо результаты измерений. Функции могут быть параметризованы. Пример корректной квантовой функции:"
   ]
  },
  {
   "cell_type": "code",
   "execution_count": 2,
   "id": "cheap-kennedy",
   "metadata": {},
   "outputs": [],
   "source": [
    "def bell_state_rotated(angle_x):\n",
    "    qml.Hadamard(wires=0)\n",
    "    qml.CNOT(wires=[0,1])\n",
    "    qml.RX(angle_x, wires=0)\n",
    "    return qml.probs(wires=[0,1])"
   ]
  },
  {
   "cell_type": "markdown",
   "id": "standard-fruit",
   "metadata": {},
   "source": [
    "Список всех квантовых операций доступен по адресу:\n",
    "    https://pennylane.readthedocs.io/en/stable/introduction/operations.html"
   ]
  },
  {
   "cell_type": "markdown",
   "id": "sophisticated-driver",
   "metadata": {},
   "source": [
    "### Quantum Nodes and Devices\n",
    "При попытке выполнить функцию мы получим бессмысленный результат:"
   ]
  },
  {
   "cell_type": "code",
   "execution_count": 3,
   "id": "hollywood-xerox",
   "metadata": {},
   "outputs": [
    {
     "data": {
      "text/plain": [
       "probs(wires=[0, 1])"
      ]
     },
     "execution_count": 3,
     "metadata": {},
     "output_type": "execute_result"
    }
   ],
   "source": [
    "bell_state_rotated(0)"
   ]
  },
  {
   "cell_type": "markdown",
   "id": "wound-yacht",
   "metadata": {},
   "source": [
    "Дело в том, что библиотека не знает, где эту функцию выполнять. Для этого нужно преобразовать квантовую функцию в квантовую ноду -- схему с возвращаемым значением, которая может быть выполнена на конкретном квантовом устройстве. PennyLane поддерживает много разных квантовых компьютеров и симуляторов, в частности:\n",
    "- Сверхпроводящие компьютеры и симуляторы IBM\n",
    "- Оптические компьютеры и симуляторы Xanadu\n",
    "- Компьютеры на ионах и симуляторы Rigetti\n",
    "\n",
    "Помимо этого, в PennyLane встроены собственные эмуляторы для кубитного и оптического компьютеров.\n",
    "Взаимодействие с квантовыми устройствами осуществляется через плагины. Это интерфейсы, позволяющие выполнять код на устройствах и понимать из API.\n",
    "<img src=\"pennylane_plugins.png\">\n",
    "\n",
    "Для определения устройства используется класс **pennylane.device**. Будем выполнять код на встроенном эмуляторе:"
   ]
  },
  {
   "cell_type": "code",
   "execution_count": 4,
   "id": "thorough-acceptance",
   "metadata": {},
   "outputs": [],
   "source": [
    "dev = qml.device('default.qubit', wires=2)"
   ]
  },
  {
   "cell_type": "markdown",
   "id": "suited-emergency",
   "metadata": {},
   "source": [
    "Чтобы указать, на каком устройстве будет выполняться та или иная функция, используется класс **pennylane.QNode** или декоратор **pennylane.qnode**. Следующие записи эквивалентны:"
   ]
  },
  {
   "cell_type": "code",
   "execution_count": 14,
   "id": "retired-charles",
   "metadata": {},
   "outputs": [],
   "source": [
    "bell_state_rotated_circuit = qml.QNode(bell_state_rotated, dev)\n",
    "\n",
    "@qml.qnode(dev)\n",
    "def bell_state_rotated_circuit(angle_x):\n",
    "    return bell_state_rotated(angle_x)"
   ]
  },
  {
   "cell_type": "markdown",
   "id": "oriented-banner",
   "metadata": {},
   "source": [
    "Квантовые ноды могут объединяться в коллекции, причем разные элементы коллекции могут выполняться на разных устройствах! Таким образом, исполняемый код полностью отвязан от конкретной реализации квантового компьютера. Например, создадим экземпляр функции **bell_state_rotated**, выполняемый на эмуляторе qiskit."
   ]
  },
  {
   "cell_type": "code",
   "execution_count": 6,
   "id": "related-decline",
   "metadata": {},
   "outputs": [],
   "source": [
    "from qiskit import IBMQ\n",
    "\n",
    "provider = IBMQ.load_account()\n",
    "dev_ibm = qml.device('qiskit.aer', wires=2, backend='qasm_simulator', shots=1024)"
   ]
  },
  {
   "cell_type": "code",
   "execution_count": 7,
   "id": "foster-hybrid",
   "metadata": {},
   "outputs": [],
   "source": [
    "bell_state_rotated_circuit_ibm = qml.QNode(bell_state_rotated, dev_ibm)"
   ]
  },
  {
   "cell_type": "code",
   "execution_count": 8,
   "id": "optional-amino",
   "metadata": {},
   "outputs": [],
   "source": [
    "qnodes = qml.QNodeCollection([bell_state_rotated_circuit, bell_state_rotated_circuit_ibm])"
   ]
  },
  {
   "cell_type": "code",
   "execution_count": 21,
   "id": "motivated-parent",
   "metadata": {},
   "outputs": [
    {
     "data": {
      "text/plain": [
       "array([[0.5       , 0.        , 0.        , 0.5       ],\n",
       "       [0.48046875, 0.        , 0.        , 0.51953125]])"
      ]
     },
     "execution_count": 21,
     "metadata": {},
     "output_type": "execute_result"
    }
   ],
   "source": [
    "qnodes(0), qnodes(np.pi / 2)"
   ]
  },
  {
   "cell_type": "markdown",
   "id": "ambient-strand",
   "metadata": {},
   "source": [
    "### Templates and measurements\n",
    "Для облегчения создания квантовых схем можно использовать шаблоны **pennylane.template**. Это функции, содержащие части квантовой схемы и не содержащие измерений. Например, написанные выше функции можно изменить с использованием шаблона:"
   ]
  },
  {
   "cell_type": "code",
   "execution_count": 10,
   "id": "banned-silver",
   "metadata": {},
   "outputs": [],
   "source": [
    "@qml.template\n",
    "def bell_state_rotated_template(angle_x):\n",
    "    qml.Hadamard(wires=0)\n",
    "    qml.CNOT(wires=[0,1])\n",
    "    qml.RX(angle_x, wires=0)\n",
    "    \n",
    "@qml.qnode(dev)\n",
    "def bell_state_rotated_probs(angle_x):\n",
    "    bell_state_rotated_template(angle_x)\n",
    "    return qml.probs(wires=[0,1])\n",
    "\n",
    "@qml.qnode(dev)\n",
    "def bell_state_rotated_sample(angle_x):\n",
    "    bell_state_rotated_template(angle_x)\n",
    "    return qml.sample(qml.PauliZ(0)), qml.sample(qml.PauliZ(1))\n",
    "\n",
    "@qml.qnode(dev)\n",
    "def bell_state_rotated_expval(angle_x):\n",
    "    bell_state_rotated_template(angle_x)\n",
    "    return qml.expval(qml.PauliZ(0)), qml.expval(qml.PauliZ(1))\n",
    "\n",
    "@qml.qnode(dev)\n",
    "def bell_state_rotated_var(angle_x):\n",
    "    bell_state_rotated_template(angle_x)\n",
    "    return qml.var(qml.PauliZ(0)), qml.var(qml.PauliZ(1))"
   ]
  },
  {
   "cell_type": "markdown",
   "id": "broad-simpson",
   "metadata": {},
   "source": [
    "Распределение вероятностей для базисных состояний"
   ]
  },
  {
   "cell_type": "code",
   "execution_count": 23,
   "id": "capable-airplane",
   "metadata": {},
   "outputs": [
    {
     "data": {
      "text/plain": [
       "tensor([0.25, 0.25, 0.25, 0.25], requires_grad=True)"
      ]
     },
     "execution_count": 23,
     "metadata": {},
     "output_type": "execute_result"
    }
   ],
   "source": [
    "bell_state_rotated_probs(np.pi / 2)"
   ]
  },
  {
   "cell_type": "markdown",
   "id": "divine-packing",
   "metadata": {},
   "source": [
    "Результаты, полученные в каждом из измерений"
   ]
  },
  {
   "cell_type": "code",
   "execution_count": 28,
   "id": "mysterious-estonia",
   "metadata": {
    "scrolled": true
   },
   "outputs": [
    {
     "data": {
      "image/png": "[encoded data removed]",
      "text/plain": [
       "<Figure size 1500x450 with 2 Axes>"
      ]
     },
     "metadata": {
      "needs_background": "light"
     },
     "output_type": "display_data"
    }
   ],
   "source": [
    "sz0, sz1 = bell_state_rotated_sample(0)\n",
    "fig, ax = plt.subplots(1,2, figsize=(10, 3))\n",
    "ax[0].hist(sz0)\n",
    "ax[1].hist(sz1)\n",
    "plt.show()"
   ]
  },
  {
   "cell_type": "markdown",
   "id": "preceding-performance",
   "metadata": {},
   "source": [
    "Ожидаемые значения и их дисперсии"
   ]
  },
  {
   "cell_type": "code",
   "execution_count": 29,
   "id": "declared-malta",
   "metadata": {},
   "outputs": [
    {
     "data": {
      "text/plain": [
       "(tensor([0., 0.], requires_grad=True), tensor([1., 1.], requires_grad=True))"
      ]
     },
     "execution_count": 29,
     "metadata": {},
     "output_type": "execute_result"
    }
   ],
   "source": [
    "bell_state_rotated_expval(np.pi), bell_state_rotated_var(np.pi)"
   ]
  }
 ],
 "metadata": {
  "kernelspec": {
   "display_name": "Quantum-Lab",
   "language": "python",
   "name": "quantum-lab"
  },
  "language_info": {
   "codemirror_mode": {
    "name": "ipython",
    "version": 3
   },
   "file_extension": ".py",
   "mimetype": "text/x-python",
   "name": "python",
   "nbconvert_exporter": "python",
   "pygments_lexer": "ipython3",
   "version": "3.8.8"
  }
 },
 "nbformat": 4,
 "nbformat_minor": 5
}
